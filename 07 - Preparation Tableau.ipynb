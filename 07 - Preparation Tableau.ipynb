{
 "cells": [
  {
   "cell_type": "code",
   "execution_count": 26,
   "metadata": {},
   "outputs": [],
   "source": [
    "import pandas as pd"
   ]
  },
  {
   "cell_type": "code",
   "execution_count": 28,
   "metadata": {},
   "outputs": [],
   "source": [
    "file_path = 'data/Data Sensus 2022.xlsx'\n",
    "data1 = pd.read_excel(file_path, sheet_name='03 - Data Rumah Tangga')"
   ]
  },
  {
   "cell_type": "code",
   "execution_count": 29,
   "metadata": {},
   "outputs": [
    {
     "name": "stdout",
     "output_type": "stream",
     "text": [
      "          Provinsi     Status      Value\n",
      "0             ACEH  Perkotaan   429621.0\n",
      "1   SUMATERA UTARA  Perkotaan  1935211.0\n",
      "2   SUMATERA BARAT  Perkotaan   639736.0\n",
      "3             RIAU  Perkotaan   623161.0\n",
      "4            JAMBI  Perkotaan   296355.0\n",
      "..             ...        ...        ...\n",
      "63  SULAWESI BARAT  Perdesaan   258991.0\n",
      "64          MALUKU  Perdesaan   237716.0\n",
      "65    MALUKU UTARA  Perdesaan   196865.0\n",
      "66     PAPUA BARAT  Perdesaan   148580.0\n",
      "67           PAPUA  Perdesaan   726257.0\n",
      "\n",
      "[68 rows x 3 columns]\n"
     ]
    }
   ],
   "source": [
    "# Membuat DataFrame dari data\n",
    "df = pd.DataFrame(data1)\n",
    "\n",
    "# Melakukan melt untuk mengubah format data\n",
    "df_melted = pd.melt(df, id_vars=['Provinsi'], var_name='Status', value_name='Value')\n",
    "\n",
    "# Menampilkan hasil\n",
    "print(df_melted)"
   ]
  },
  {
   "cell_type": "code",
   "execution_count": 30,
   "metadata": {},
   "outputs": [
    {
     "name": "stdout",
     "output_type": "stream",
     "text": [
      "Data telah disimpan dalam file data/status_tempat tinggal.xlsx\n"
     ]
    }
   ],
   "source": [
    "# Menyimpan hasil melt ke file Excel baru\n",
    "output_file_path = 'data/status_tempat tinggal.xlsx'\n",
    "df_melted.to_excel(output_file_path, index=False)\n",
    "\n",
    "print(f\"Data telah disimpan dalam file {output_file_path}\")"
   ]
  }
 ],
 "metadata": {
  "kernelspec": {
   "display_name": "env",
   "language": "python",
   "name": "python3"
  },
  "language_info": {
   "codemirror_mode": {
    "name": "ipython",
    "version": 3
   },
   "file_extension": ".py",
   "mimetype": "text/x-python",
   "name": "python",
   "nbconvert_exporter": "python",
   "pygments_lexer": "ipython3",
   "version": "3.12.4"
  }
 },
 "nbformat": 4,
 "nbformat_minor": 2
}
